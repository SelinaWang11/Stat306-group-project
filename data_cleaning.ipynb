{
 "cells": [
  {
   "cell_type": "code",
   "execution_count": 4,
   "metadata": {
    "vscode": {
     "languageId": "r"
    }
   },
   "outputs": [
    {
     "data": {
      "text/html": [
       "<table class=\"dataframe\">\n",
       "<caption>A data.frame: 6 x 10</caption>\n",
       "<thead>\n",
       "\t<tr><th></th><th scope=col>Car.ID</th><th scope=col>Brand</th><th scope=col>Year</th><th scope=col>Engine.Size</th><th scope=col>Fuel.Type</th><th scope=col>Transmission</th><th scope=col>Mileage</th><th scope=col>Condition</th><th scope=col>Price</th><th scope=col>Model</th></tr>\n",
       "\t<tr><th></th><th scope=col>&lt;int&gt;</th><th scope=col>&lt;chr&gt;</th><th scope=col>&lt;int&gt;</th><th scope=col>&lt;dbl&gt;</th><th scope=col>&lt;chr&gt;</th><th scope=col>&lt;chr&gt;</th><th scope=col>&lt;int&gt;</th><th scope=col>&lt;chr&gt;</th><th scope=col>&lt;dbl&gt;</th><th scope=col>&lt;chr&gt;</th></tr>\n",
       "</thead>\n",
       "<tbody>\n",
       "\t<tr><th scope=row>1</th><td>1</td><td>Tesla</td><td>2016</td><td>2.3</td><td>Petrol  </td><td>Manual   </td><td>114832</td><td>New     </td><td>26613.92</td><td>Model X </td></tr>\n",
       "\t<tr><th scope=row>2</th><td>2</td><td>BMW  </td><td>2018</td><td>4.4</td><td>Electric</td><td>Manual   </td><td>143190</td><td>Used    </td><td>14679.61</td><td>5 Series</td></tr>\n",
       "\t<tr><th scope=row>3</th><td>3</td><td>Audi </td><td>2013</td><td>4.5</td><td>Electric</td><td>Manual   </td><td>181601</td><td>New     </td><td>44402.61</td><td>A4      </td></tr>\n",
       "\t<tr><th scope=row>4</th><td>4</td><td>Tesla</td><td>2011</td><td>4.1</td><td>Diesel  </td><td>Automatic</td><td> 68682</td><td>New     </td><td>86374.33</td><td>Model Y </td></tr>\n",
       "\t<tr><th scope=row>5</th><td>5</td><td>Ford </td><td>2009</td><td>2.6</td><td>Diesel  </td><td>Manual   </td><td>223009</td><td>Like New</td><td>73577.10</td><td>Mustang </td></tr>\n",
       "\t<tr><th scope=row>6</th><td>6</td><td>Audi </td><td>2019</td><td>2.4</td><td>Diesel  </td><td>Automatic</td><td>246553</td><td>Like New</td><td>88969.76</td><td>Q7      </td></tr>\n",
       "</tbody>\n",
       "</table>\n"
      ],
      "text/latex": [
       "A data.frame: 6 x 10\n",
       "\\begin{tabular}{r|llllllllll}\n",
       "  & Car.ID & Brand & Year & Engine.Size & Fuel.Type & Transmission & Mileage & Condition & Price & Model\\\\\n",
       "  & <int> & <chr> & <int> & <dbl> & <chr> & <chr> & <int> & <chr> & <dbl> & <chr>\\\\\n",
       "\\hline\n",
       "\t1 & 1 & Tesla & 2016 & 2.3 & Petrol   & Manual    & 114832 & New      & 26613.92 & Model X \\\\\n",
       "\t2 & 2 & BMW   & 2018 & 4.4 & Electric & Manual    & 143190 & Used     & 14679.61 & 5 Series\\\\\n",
       "\t3 & 3 & Audi  & 2013 & 4.5 & Electric & Manual    & 181601 & New      & 44402.61 & A4      \\\\\n",
       "\t4 & 4 & Tesla & 2011 & 4.1 & Diesel   & Automatic &  68682 & New      & 86374.33 & Model Y \\\\\n",
       "\t5 & 5 & Ford  & 2009 & 2.6 & Diesel   & Manual    & 223009 & Like New & 73577.10 & Mustang \\\\\n",
       "\t6 & 6 & Audi  & 2019 & 2.4 & Diesel   & Automatic & 246553 & Like New & 88969.76 & Q7      \\\\\n",
       "\\end{tabular}\n"
      ],
      "text/markdown": [
       "\n",
       "A data.frame: 6 x 10\n",
       "\n",
       "| <!--/--> | Car.ID &lt;int&gt; | Brand &lt;chr&gt; | Year &lt;int&gt; | Engine.Size &lt;dbl&gt; | Fuel.Type &lt;chr&gt; | Transmission &lt;chr&gt; | Mileage &lt;int&gt; | Condition &lt;chr&gt; | Price &lt;dbl&gt; | Model &lt;chr&gt; |\n",
       "|---|---|---|---|---|---|---|---|---|---|---|\n",
       "| 1 | 1 | Tesla | 2016 | 2.3 | Petrol   | Manual    | 114832 | New      | 26613.92 | Model X  |\n",
       "| 2 | 2 | BMW   | 2018 | 4.4 | Electric | Manual    | 143190 | Used     | 14679.61 | 5 Series |\n",
       "| 3 | 3 | Audi  | 2013 | 4.5 | Electric | Manual    | 181601 | New      | 44402.61 | A4       |\n",
       "| 4 | 4 | Tesla | 2011 | 4.1 | Diesel   | Automatic |  68682 | New      | 86374.33 | Model Y  |\n",
       "| 5 | 5 | Ford  | 2009 | 2.6 | Diesel   | Manual    | 223009 | Like New | 73577.10 | Mustang  |\n",
       "| 6 | 6 | Audi  | 2019 | 2.4 | Diesel   | Automatic | 246553 | Like New | 88969.76 | Q7       |\n",
       "\n"
      ],
      "text/plain": [
       "  Car.ID Brand Year Engine.Size Fuel.Type Transmission Mileage Condition\n",
       "1 1      Tesla 2016 2.3         Petrol    Manual       114832  New      \n",
       "2 2      BMW   2018 4.4         Electric  Manual       143190  Used     \n",
       "3 3      Audi  2013 4.5         Electric  Manual       181601  New      \n",
       "4 4      Tesla 2011 4.1         Diesel    Automatic     68682  New      \n",
       "5 5      Ford  2009 2.6         Diesel    Manual       223009  Like New \n",
       "6 6      Audi  2019 2.4         Diesel    Automatic    246553  Like New \n",
       "  Price    Model   \n",
       "1 26613.92 Model X \n",
       "2 14679.61 5 Series\n",
       "3 44402.61 A4      \n",
       "4 86374.33 Model Y \n",
       "5 73577.10 Mustang \n",
       "6 88969.76 Q7      "
      ]
     },
     "metadata": {},
     "output_type": "display_data"
    }
   ],
   "source": [
    "car_data <- read.csv(\"data/car_price.csv\")\n",
    "head(car_data)\n",
    "\n",
    "\n",
    "#Hellow"
   ]
  },
  {
   "cell_type": "code",
   "execution_count": null,
   "metadata": {
    "vscode": {
     "languageId": "r"
    }
   },
   "outputs": [],
   "source": []
  }
 ],
 "metadata": {
  "kernelspec": {
   "display_name": "R",
   "language": "R",
   "name": "ir"
  },
  "language_info": {
   "codemirror_mode": "r",
   "file_extension": ".r",
   "mimetype": "text/x-r-source",
   "name": "R",
   "pygments_lexer": "r",
   "version": "4.4.1"
  }
 },
 "nbformat": 4,
 "nbformat_minor": 2
}
